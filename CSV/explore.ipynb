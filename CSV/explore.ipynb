{
 "cells": [
  {
   "cell_type": "code",
   "execution_count": 1,
   "id": "b03ae8f5",
   "metadata": {},
   "outputs": [],
   "source": [
    "import pandas as pd\n",
    "import numpy as np"
   ]
  },
  {
   "cell_type": "code",
   "execution_count": 4,
   "id": "210fea26",
   "metadata": {},
   "outputs": [
    {
     "data": {
      "text/html": [
       "<div>\n",
       "<style scoped>\n",
       "    .dataframe tbody tr th:only-of-type {\n",
       "        vertical-align: middle;\n",
       "    }\n",
       "\n",
       "    .dataframe tbody tr th {\n",
       "        vertical-align: top;\n",
       "    }\n",
       "\n",
       "    .dataframe thead th {\n",
       "        text-align: right;\n",
       "    }\n",
       "</style>\n",
       "<table border=\"1\" class=\"dataframe\">\n",
       "  <thead>\n",
       "    <tr style=\"text-align: right;\">\n",
       "      <th></th>\n",
       "      <th>Unnamed: 0</th>\n",
       "      <th>stores</th>\n",
       "      <th>Company</th>\n",
       "      <th>chipset</th>\n",
       "      <th>time</th>\n",
       "    </tr>\n",
       "  </thead>\n",
       "  <tbody>\n",
       "    <tr>\n",
       "      <th>0</th>\n",
       "      <td>0</td>\n",
       "      <td>Amazon</td>\n",
       "      <td>Nvidia</td>\n",
       "      <td>rtx-3070</td>\n",
       "      <td>2104</td>\n",
       "    </tr>\n",
       "    <tr>\n",
       "      <th>1</th>\n",
       "      <td>1</td>\n",
       "      <td>Amazon</td>\n",
       "      <td>Nvidia</td>\n",
       "      <td>rtx-3070</td>\n",
       "      <td>288</td>\n",
       "    </tr>\n",
       "    <tr>\n",
       "      <th>2</th>\n",
       "      <td>2</td>\n",
       "      <td>Amazon</td>\n",
       "      <td>Nvidia</td>\n",
       "      <td>rtx-3070</td>\n",
       "      <td>1924</td>\n",
       "    </tr>\n",
       "    <tr>\n",
       "      <th>3</th>\n",
       "      <td>3</td>\n",
       "      <td>Amazon</td>\n",
       "      <td>Nvidia</td>\n",
       "      <td>rtx-3070</td>\n",
       "      <td>216</td>\n",
       "    </tr>\n",
       "    <tr>\n",
       "      <th>4</th>\n",
       "      <td>4</td>\n",
       "      <td>Amazon</td>\n",
       "      <td>Nvidia</td>\n",
       "      <td>rtx-3070</td>\n",
       "      <td>7100</td>\n",
       "    </tr>\n",
       "    <tr>\n",
       "      <th>...</th>\n",
       "      <td>...</td>\n",
       "      <td>...</td>\n",
       "      <td>...</td>\n",
       "      <td>...</td>\n",
       "      <td>...</td>\n",
       "    </tr>\n",
       "    <tr>\n",
       "      <th>2012</th>\n",
       "      <td>2012</td>\n",
       "      <td>Amazon</td>\n",
       "      <td>Nvidia</td>\n",
       "      <td>rtx-3060</td>\n",
       "      <td>152</td>\n",
       "    </tr>\n",
       "    <tr>\n",
       "      <th>2013</th>\n",
       "      <td>2013</td>\n",
       "      <td>Amazon</td>\n",
       "      <td>Nvidia</td>\n",
       "      <td>rtx-3060</td>\n",
       "      <td>148</td>\n",
       "    </tr>\n",
       "    <tr>\n",
       "      <th>2014</th>\n",
       "      <td>2014</td>\n",
       "      <td>Amazon</td>\n",
       "      <td>Nvidia</td>\n",
       "      <td>rtx-3060</td>\n",
       "      <td>95</td>\n",
       "    </tr>\n",
       "    <tr>\n",
       "      <th>2015</th>\n",
       "      <td>2015</td>\n",
       "      <td>Amazon</td>\n",
       "      <td>Nvidia</td>\n",
       "      <td>rtx-3060</td>\n",
       "      <td>505</td>\n",
       "    </tr>\n",
       "    <tr>\n",
       "      <th>2016</th>\n",
       "      <td>2016</td>\n",
       "      <td>Amazon</td>\n",
       "      <td>Nvidia</td>\n",
       "      <td>rtx-3060</td>\n",
       "      <td>85</td>\n",
       "    </tr>\n",
       "  </tbody>\n",
       "</table>\n",
       "<p>2017 rows × 5 columns</p>\n",
       "</div>"
      ],
      "text/plain": [
       "      Unnamed: 0  stores Company   chipset  time\n",
       "0              0  Amazon  Nvidia  rtx-3070  2104\n",
       "1              1  Amazon  Nvidia  rtx-3070   288\n",
       "2              2  Amazon  Nvidia  rtx-3070  1924\n",
       "3              3  Amazon  Nvidia  rtx-3070   216\n",
       "4              4  Amazon  Nvidia  rtx-3070  7100\n",
       "...          ...     ...     ...       ...   ...\n",
       "2012        2012  Amazon  Nvidia  rtx-3060   152\n",
       "2013        2013  Amazon  Nvidia  rtx-3060   148\n",
       "2014        2014  Amazon  Nvidia  rtx-3060    95\n",
       "2015        2015  Amazon  Nvidia  rtx-3060   505\n",
       "2016        2016  Amazon  Nvidia  rtx-3060    85\n",
       "\n",
       "[2017 rows x 5 columns]"
      ]
     },
     "execution_count": 4,
     "metadata": {},
     "output_type": "execute_result"
    }
   ],
   "source": [
    "df = pd.read_csv(\"stock_and_time-Nvidia.csv\")\n",
    "df"
   ]
  },
  {
   "cell_type": "code",
   "execution_count": 5,
   "id": "4a9d7289",
   "metadata": {},
   "outputs": [
    {
     "data": {
      "text/plain": [
       "rtx-3080ti    598\n",
       "rtx-3060      317\n",
       "rtx-3090      313\n",
       "rtx-3070ti    300\n",
       "rtx-3070      249\n",
       "rtx-3080      158\n",
       "rtx-3060ti     82\n",
       "Name: chipset, dtype: int64"
      ]
     },
     "execution_count": 5,
     "metadata": {},
     "output_type": "execute_result"
    }
   ],
   "source": [
    "df[\"chipset\"].value_counts()"
   ]
  },
  {
   "cell_type": "code",
   "execution_count": null,
   "id": "795304c7",
   "metadata": {},
   "outputs": [],
   "source": []
  }
 ],
 "metadata": {
  "kernelspec": {
   "display_name": "Python 3 (ipykernel)",
   "language": "python",
   "name": "python3"
  },
  "language_info": {
   "codemirror_mode": {
    "name": "ipython",
    "version": 3
   },
   "file_extension": ".py",
   "mimetype": "text/x-python",
   "name": "python",
   "nbconvert_exporter": "python",
   "pygments_lexer": "ipython3",
   "version": "3.9.0"
  }
 },
 "nbformat": 4,
 "nbformat_minor": 5
}
