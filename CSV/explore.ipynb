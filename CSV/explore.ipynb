{
 "cells": [
  {
   "cell_type": "code",
   "execution_count": 2,
   "id": "b4277653",
   "metadata": {},
   "outputs": [],
   "source": [
    "import pandas as pd\n",
    "import numpy as np"
   ]
  },
  {
   "cell_type": "code",
   "execution_count": 7,
   "id": "446d22fc",
   "metadata": {},
   "outputs": [
    {
     "data": {
      "text/html": [
       "<div>\n",
       "<style scoped>\n",
       "    .dataframe tbody tr th:only-of-type {\n",
       "        vertical-align: middle;\n",
       "    }\n",
       "\n",
       "    .dataframe tbody tr th {\n",
       "        vertical-align: top;\n",
       "    }\n",
       "\n",
       "    .dataframe thead th {\n",
       "        text-align: right;\n",
       "    }\n",
       "</style>\n",
       "<table border=\"1\" class=\"dataframe\">\n",
       "  <thead>\n",
       "    <tr style=\"text-align: right;\">\n",
       "      <th></th>\n",
       "      <th>stores</th>\n",
       "      <th>Company</th>\n",
       "      <th>chipset</th>\n",
       "      <th>time</th>\n",
       "    </tr>\n",
       "  </thead>\n",
       "  <tbody>\n",
       "    <tr>\n",
       "      <th>0</th>\n",
       "      <td>Amazon</td>\n",
       "      <td>Nvidia</td>\n",
       "      <td>rtx-3070</td>\n",
       "      <td>712</td>\n",
       "    </tr>\n",
       "    <tr>\n",
       "      <th>1</th>\n",
       "      <td>Amazon</td>\n",
       "      <td>Nvidia</td>\n",
       "      <td>rtx-3070</td>\n",
       "      <td>40</td>\n",
       "    </tr>\n",
       "    <tr>\n",
       "      <th>2</th>\n",
       "      <td>Amazon</td>\n",
       "      <td>Nvidia</td>\n",
       "      <td>rtx-3070</td>\n",
       "      <td>4</td>\n",
       "    </tr>\n",
       "    <tr>\n",
       "      <th>3</th>\n",
       "      <td>Amazon</td>\n",
       "      <td>Nvidia</td>\n",
       "      <td>rtx-3070</td>\n",
       "      <td>548</td>\n",
       "    </tr>\n",
       "    <tr>\n",
       "      <th>4</th>\n",
       "      <td>Amazon</td>\n",
       "      <td>Nvidia</td>\n",
       "      <td>rtx-3070</td>\n",
       "      <td>500</td>\n",
       "    </tr>\n",
       "    <tr>\n",
       "      <th>...</th>\n",
       "      <td>...</td>\n",
       "      <td>...</td>\n",
       "      <td>...</td>\n",
       "      <td>...</td>\n",
       "    </tr>\n",
       "    <tr>\n",
       "      <th>3977</th>\n",
       "      <td>Amazon</td>\n",
       "      <td>AMD</td>\n",
       "      <td>rx6900xt</td>\n",
       "      <td>160</td>\n",
       "    </tr>\n",
       "    <tr>\n",
       "      <th>3978</th>\n",
       "      <td>Amazon</td>\n",
       "      <td>AMD</td>\n",
       "      <td>rx6900xt</td>\n",
       "      <td>3475</td>\n",
       "    </tr>\n",
       "    <tr>\n",
       "      <th>3979</th>\n",
       "      <td>Amazon</td>\n",
       "      <td>AMD</td>\n",
       "      <td>rx6900xt</td>\n",
       "      <td>7</td>\n",
       "    </tr>\n",
       "    <tr>\n",
       "      <th>3980</th>\n",
       "      <td>Amazon</td>\n",
       "      <td>AMD</td>\n",
       "      <td>rx6900xt</td>\n",
       "      <td>4</td>\n",
       "    </tr>\n",
       "    <tr>\n",
       "      <th>3981</th>\n",
       "      <td>Amazon</td>\n",
       "      <td>AMD</td>\n",
       "      <td>rx6900xt</td>\n",
       "      <td>4</td>\n",
       "    </tr>\n",
       "  </tbody>\n",
       "</table>\n",
       "<p>3982 rows × 4 columns</p>\n",
       "</div>"
      ],
      "text/plain": [
       "      stores Company   chipset  time\n",
       "0     Amazon  Nvidia  rtx-3070   712\n",
       "1     Amazon  Nvidia  rtx-3070    40\n",
       "2     Amazon  Nvidia  rtx-3070     4\n",
       "3     Amazon  Nvidia  rtx-3070   548\n",
       "4     Amazon  Nvidia  rtx-3070   500\n",
       "...      ...     ...       ...   ...\n",
       "3977  Amazon     AMD  rx6900xt   160\n",
       "3978  Amazon     AMD  rx6900xt  3475\n",
       "3979  Amazon     AMD  rx6900xt     7\n",
       "3980  Amazon     AMD  rx6900xt     4\n",
       "3981  Amazon     AMD  rx6900xt     4\n",
       "\n",
       "[3982 rows x 4 columns]"
      ]
     },
     "execution_count": 7,
     "metadata": {},
     "output_type": "execute_result"
    }
   ],
   "source": [
    "df = pd.read_csv(\"stock_and_time.csv\")\n",
    "df"
   ]
  },
  {
   "cell_type": "code",
   "execution_count": 9,
   "id": "f12ea920",
   "metadata": {},
   "outputs": [
    {
     "data": {
      "text/plain": [
       "rtx-3080ti    598\n",
       "rx5700        598\n",
       "rx6700xt      598\n",
       "600xt         368\n",
       "rtx-3090      295\n",
       "rx6800xt      256\n",
       "rx6900xt      248\n",
       "rtx-3060      243\n",
       "rtx-3070ti    242\n",
       "rtx-3070      230\n",
       "rx6600        147\n",
       "rtx-3080      107\n",
       "rtx-3060ti     52\n",
       "Name: chipset, dtype: int64"
      ]
     },
     "execution_count": 9,
     "metadata": {},
     "output_type": "execute_result"
    }
   ],
   "source": [
    "df[\"chipset\"].value_counts()"
   ]
  },
  {
   "cell_type": "code",
   "execution_count": null,
   "id": "581c3d0b",
   "metadata": {},
   "outputs": [],
   "source": []
  }
 ],
 "metadata": {
  "kernelspec": {
   "display_name": "Python 3 (ipykernel)",
   "language": "python",
   "name": "python3"
  },
  "language_info": {
   "codemirror_mode": {
    "name": "ipython",
    "version": 3
   },
   "file_extension": ".py",
   "mimetype": "text/x-python",
   "name": "python",
   "nbconvert_exporter": "python",
   "pygments_lexer": "ipython3",
   "version": "3.9.0"
  }
 },
 "nbformat": 4,
 "nbformat_minor": 5
}
