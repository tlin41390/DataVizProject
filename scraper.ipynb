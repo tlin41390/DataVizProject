{
 "cells": [
  {
   "cell_type": "code",
   "execution_count": 3,
   "metadata": {},
   "outputs": [],
   "source": [
    "from splinter import Browser\n",
    "import re\n",
    "from bs4 import BeautifulSoup as soup\n",
    "from webdriver_manager.chrome import ChromeDriverManager\n",
    "from datetime import datetime\n",
    "import pandas as pd\n",
    "import numpy as np\n",
    "import re\n",
    "from pathlib import Path  "
   ]
  },
  {
   "cell_type": "code",
   "execution_count": 4,
   "metadata": {},
   "outputs": [
    {
     "name": "stderr",
     "output_type": "stream",
     "text": [
      "\n",
      "\n",
      "====== WebDriver manager ======\n",
      "Current google-chrome version is 99.0.4844\n",
      "Get LATEST chromedriver version for 99.0.4844 google-chrome\n",
      "Driver [/Users/terencelin/.wdm/drivers/chromedriver/mac64/99.0.4844.51/chromedriver] found in cache\n"
     ]
    }
   ],
   "source": [
    "#Set up Splinter \n",
    "executable_path = {'executable_path': ChromeDriverManager().install()}\n",
    "browser = Browser('chrome', **executable_path, headless = False)"
   ]
  },
  {
   "cell_type": "code",
   "execution_count": 45,
   "metadata": {},
   "outputs": [
    {
     "name": "stdout",
     "output_type": "stream",
     "text": [
      "1767\n"
     ]
    }
   ],
   "source": [
    "nvidia_gpus = ['https://www.zoolert.com/computers/videocards/nvidia/rtx-3070/instockhistory.php',\n",
    "               'https://www.zoolert.com/computers/videocards/nvidia/rtx-3070-ti/instockhistory.php',\n",
    "              'https://www.zoolert.com/computers/videocards/nvidia/rtx-3080-ti/instockhistory.php',\n",
    "               'https://www.zoolert.com/computers/videocards/nvidia/rtx-3090/instockhistory.php',\n",
    "               'https://www.zoolert.com/computers/videocards/nvidia/rtx-3080/instockhistory.php',\n",
    "               'https://www.zoolert.com/computers/videocards/nvidia/rtx-3060ti/instockhistory.php',\n",
    "               'https://www.zoolert.com/computers/videocards/nvidia/rtx-3060/instockhistory.php'\n",
    "              ]\n",
    "models = ['rtx-3070','rtx-3070ti','rtx-3080ti','rtx-3090','rtx-3080','rtx-3060ti','rtx-3060']\n",
    "chipset = []\n",
    "descriptions = []\n",
    "time = []\n",
    "stores = []\n",
    "for values,references in enumerate(nvidia_gpus):\n",
    "    browser.visit(references)\n",
    "    html = browser.html\n",
    "    gpu_soup = soup(html,'html.parser')\n",
    "    browser.find_by_name('history_length').first.select('-1')\n",
    "\n",
    "for values,references in enumerate(nvidia_gpus):\n",
    "    browser.visit(references)\n",
    "    html = browser.html\n",
    "    gpu_soup = soup(html,'html.parser')\n",
    "    data = gpu_soup.find_all('tr',role = \"row\")\n",
    "\n",
    "    for value,link in enumerate(data):\n",
    "        descriptions.append(link.get_text(separator = \"\\n\"))\n",
    "        if( 'T' not in descriptions[value].strip().split(\"\\n\")[-1] ):  \n",
    "            time.append(descriptions[value].strip().split(\"\\n\")[-1])\n",
    "            chipset.append(models[values])\n",
    "            stores.append(descriptions[value].strip().split(\"\\n\")[0])\n",
    "print(len(time))\n",
    "company = ['Nvidia'] * len(chipset)"
   ]
  },
  {
   "cell_type": "code",
   "execution_count": 46,
   "metadata": {},
   "outputs": [],
   "source": [
    "amd_gpus = ['https://www.zoolert.com/computers/videocards/radeon/rx5700/instockhistory.php',\n",
    "           'https://www.zoolert.com/computers/videocards/radeon/6600xt/instockhistory.php',\n",
    "           'https://www.zoolert.com/computers/videocards/radeon/rx6600/instockhistory.php',\n",
    "           'https://www.zoolert.com/computers/videocards/radeon/rx6700xt/instockhistory.php',\n",
    "           'https://www.zoolert.com/computers/videocards/radeon/rx6800xt/instockhistory.php',\n",
    "           'https://www.zoolert.com/computers/videocards/radeon/rx6900xt/instockhistory.php'\n",
    "           ]\n",
    "\n",
    "models = ['rx5700','600xt','rx6600','rx6700xt','rx6800xt','rx6900xt']\n",
    "for values,references in enumerate(amd_gpus):\n",
    "    browser.visit(references)\n",
    "    html = browser.html\n",
    "    gpu_soup = soup(html,'html.parser')\n",
    "    browser.find_by_name('history_length').first.select('-1')\n",
    "\n",
    "for values,references in enumerate(amd_gpus):\n",
    "    browser.visit(references)\n",
    "    html = browser.html\n",
    "    gpu_soup = soup(html,'html.parser')\n",
    "    data = gpu_soup.find_all('tr',role = \"row\")\n",
    "\n",
    "    for value,link in enumerate(data):\n",
    "        descriptions.append(link.get_text(separator = \"\\n\"))\n",
    "        if( 'T' not in descriptions[value].strip().split(\"\\n\")[-1] ):  \n",
    "            time.append(descriptions[value].strip().split(\"\\n\")[-1])\n",
    "            chipset.append(models[values])\n",
    "            stores.append(descriptions[value].strip().split(\"\\n\")[0])\n",
    "            company.append(\"AMD\")"
   ]
  },
  {
   "cell_type": "code",
   "execution_count": 47,
   "metadata": {},
   "outputs": [
    {
     "name": "stderr",
     "output_type": "stream",
     "text": [
      "<>:7: SyntaxWarning: \"is\" with a literal. Did you mean \"==\"?\n",
      "<>:14: SyntaxWarning: \"is\" with a literal. Did you mean \"==\"?\n",
      "<>:7: SyntaxWarning: \"is\" with a literal. Did you mean \"==\"?\n",
      "<>:14: SyntaxWarning: \"is\" with a literal. Did you mean \"==\"?\n",
      "/var/folders/ww/ps0ny6hn32l60w_94q9rtv3w0000gn/T/ipykernel_24186/2829807125.py:7: SyntaxWarning: \"is\" with a literal. Did you mean \"==\"?\n",
      "  if len(cleaned_time) is 3:\n",
      "/var/folders/ww/ps0ny6hn32l60w_94q9rtv3w0000gn/T/ipykernel_24186/2829807125.py:14: SyntaxWarning: \"is\" with a literal. Did you mean \"==\"?\n",
      "  elif len(cleaned_time) is 2:\n"
     ]
    }
   ],
   "source": [
    "final_conversion = []\n",
    "time = [value for value in time if value != \"Total Time\"]\n",
    "for timestamps, stamps in enumerate(time):\n",
    "        \n",
    "    total_time = 0\n",
    "    cleaned_time = [int(ele) for ele in re.split('[a-z]',stamps) if ele.strip()]\n",
    "    if len(cleaned_time) is 3: \n",
    "        scalar =1440\n",
    "        total_time = scalar * cleaned_time[0]\n",
    "        scalar = 60\n",
    "        total_time = total_time +(scalar*cleaned_time[1])\n",
    "        scalar = 1\n",
    "        total_time = total_time + (scalar*cleaned_time[2])\n",
    "    elif len(cleaned_time) is 2: \n",
    "        scalar = 60\n",
    "        total_time = total_time +(scalar*cleaned_time[0])\n",
    "        scalar = 1\n",
    "        total_time = total_time + (scalar*cleaned_time[1])\n",
    "    else:\n",
    "        total_time = cleaned_time[0]\n",
    "    final_conversion.append(total_time)\n"
   ]
  },
  {
   "cell_type": "code",
   "execution_count": 48,
   "metadata": {},
   "outputs": [
    {
     "name": "stdout",
     "output_type": "stream",
     "text": [
      "3982\n"
     ]
    }
   ],
   "source": [
    "print(len(final_conversion))"
   ]
  },
  {
   "cell_type": "code",
   "execution_count": 49,
   "metadata": {},
   "outputs": [
    {
     "name": "stdout",
     "output_type": "stream",
     "text": [
      "3982  3982  3982 4007\n"
     ]
    }
   ],
   "source": [
    "print(len(stores),'',len(company),'',len(final_conversion),len(descriptions))"
   ]
  },
  {
   "cell_type": "code",
   "execution_count": 51,
   "metadata": {},
   "outputs": [
    {
     "data": {
      "text/html": [
       "<div>\n",
       "<style scoped>\n",
       "    .dataframe tbody tr th:only-of-type {\n",
       "        vertical-align: middle;\n",
       "    }\n",
       "\n",
       "    .dataframe tbody tr th {\n",
       "        vertical-align: top;\n",
       "    }\n",
       "\n",
       "    .dataframe thead th {\n",
       "        text-align: right;\n",
       "    }\n",
       "</style>\n",
       "<table border=\"1\" class=\"dataframe\">\n",
       "  <thead>\n",
       "    <tr style=\"text-align: right;\">\n",
       "      <th></th>\n",
       "      <th>stores</th>\n",
       "      <th>Company</th>\n",
       "      <th>chipset</th>\n",
       "      <th>time</th>\n",
       "    </tr>\n",
       "  </thead>\n",
       "  <tbody>\n",
       "    <tr>\n",
       "      <th>0</th>\n",
       "      <td>Amazon</td>\n",
       "      <td>Nvidia</td>\n",
       "      <td>rtx-3070</td>\n",
       "      <td>712</td>\n",
       "    </tr>\n",
       "    <tr>\n",
       "      <th>1</th>\n",
       "      <td>Amazon</td>\n",
       "      <td>Nvidia</td>\n",
       "      <td>rtx-3070</td>\n",
       "      <td>40</td>\n",
       "    </tr>\n",
       "    <tr>\n",
       "      <th>2</th>\n",
       "      <td>Amazon</td>\n",
       "      <td>Nvidia</td>\n",
       "      <td>rtx-3070</td>\n",
       "      <td>4</td>\n",
       "    </tr>\n",
       "    <tr>\n",
       "      <th>3</th>\n",
       "      <td>Amazon</td>\n",
       "      <td>Nvidia</td>\n",
       "      <td>rtx-3070</td>\n",
       "      <td>548</td>\n",
       "    </tr>\n",
       "    <tr>\n",
       "      <th>4</th>\n",
       "      <td>Amazon</td>\n",
       "      <td>Nvidia</td>\n",
       "      <td>rtx-3070</td>\n",
       "      <td>500</td>\n",
       "    </tr>\n",
       "    <tr>\n",
       "      <th>...</th>\n",
       "      <td>...</td>\n",
       "      <td>...</td>\n",
       "      <td>...</td>\n",
       "      <td>...</td>\n",
       "    </tr>\n",
       "    <tr>\n",
       "      <th>3977</th>\n",
       "      <td>Amazon</td>\n",
       "      <td>AMD</td>\n",
       "      <td>rx6900xt</td>\n",
       "      <td>160</td>\n",
       "    </tr>\n",
       "    <tr>\n",
       "      <th>3978</th>\n",
       "      <td>Amazon</td>\n",
       "      <td>AMD</td>\n",
       "      <td>rx6900xt</td>\n",
       "      <td>3475</td>\n",
       "    </tr>\n",
       "    <tr>\n",
       "      <th>3979</th>\n",
       "      <td>Amazon</td>\n",
       "      <td>AMD</td>\n",
       "      <td>rx6900xt</td>\n",
       "      <td>7</td>\n",
       "    </tr>\n",
       "    <tr>\n",
       "      <th>3980</th>\n",
       "      <td>Amazon</td>\n",
       "      <td>AMD</td>\n",
       "      <td>rx6900xt</td>\n",
       "      <td>4</td>\n",
       "    </tr>\n",
       "    <tr>\n",
       "      <th>3981</th>\n",
       "      <td>Amazon</td>\n",
       "      <td>AMD</td>\n",
       "      <td>rx6900xt</td>\n",
       "      <td>4</td>\n",
       "    </tr>\n",
       "  </tbody>\n",
       "</table>\n",
       "<p>3982 rows × 4 columns</p>\n",
       "</div>"
      ],
      "text/plain": [
       "      stores Company   chipset  time\n",
       "0     Amazon  Nvidia  rtx-3070   712\n",
       "1     Amazon  Nvidia  rtx-3070    40\n",
       "2     Amazon  Nvidia  rtx-3070     4\n",
       "3     Amazon  Nvidia  rtx-3070   548\n",
       "4     Amazon  Nvidia  rtx-3070   500\n",
       "...      ...     ...       ...   ...\n",
       "3977  Amazon     AMD  rx6900xt   160\n",
       "3978  Amazon     AMD  rx6900xt  3475\n",
       "3979  Amazon     AMD  rx6900xt     7\n",
       "3980  Amazon     AMD  rx6900xt     4\n",
       "3981  Amazon     AMD  rx6900xt     4\n",
       "\n",
       "[3982 rows x 4 columns]"
      ]
     },
     "execution_count": 51,
     "metadata": {},
     "output_type": "execute_result"
    }
   ],
   "source": [
    "df= pd.DataFrame({\n",
    "    'stores':stores,\n",
    "    'Company':company,\n",
    "    'chipset':chipset,\n",
    "    'time':final_conversion})\n",
    "df"
   ]
  },
  {
   "cell_type": "code",
   "execution_count": 52,
   "metadata": {},
   "outputs": [
    {
     "data": {
      "text/plain": [
       "array(['Nvidia', 'AMD'], dtype=object)"
      ]
     },
     "execution_count": 52,
     "metadata": {},
     "output_type": "execute_result"
    }
   ],
   "source": [
    "df.Company.unique()"
   ]
  },
  {
   "cell_type": "code",
   "execution_count": 53,
   "metadata": {},
   "outputs": [
    {
     "data": {
      "text/plain": [
       "array(['Amazon', 'Amazon CA', 'SamsClub', 'BestBuy'], dtype=object)"
      ]
     },
     "execution_count": 53,
     "metadata": {},
     "output_type": "execute_result"
    }
   ],
   "source": [
    "df.stores.unique()"
   ]
  },
  {
   "cell_type": "code",
   "execution_count": 54,
   "metadata": {},
   "outputs": [],
   "source": [
    "filepath = Path('CSV/stock_and_time.csv')\n",
    "df.to_csv(filepath)"
   ]
  },
  {
   "cell_type": "code",
   "execution_count": null,
   "metadata": {},
   "outputs": [],
   "source": []
  }
 ],
 "metadata": {
  "kernelspec": {
   "display_name": "Python 3 (ipykernel)",
   "language": "python",
   "name": "python3"
  },
  "language_info": {
   "codemirror_mode": {
    "name": "ipython",
    "version": 3
   },
   "file_extension": ".py",
   "mimetype": "text/x-python",
   "name": "python",
   "nbconvert_exporter": "python",
   "pygments_lexer": "ipython3",
   "version": "3.9.0"
  }
 },
 "nbformat": 4,
 "nbformat_minor": 4
}
