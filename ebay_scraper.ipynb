{
 "cells": [
  {
   "cell_type": "code",
   "execution_count": 1,
   "metadata": {},
   "outputs": [],
   "source": [
    "from splinter import Browser\n",
    "import re\n",
    "from bs4 import BeautifulSoup as soup\n",
    "from webdriver_manager.chrome import ChromeDriverManager\n",
    "import pandas as pd\n",
    "import numpy as np\n",
    "from pathlib import Path  "
   ]
  },
  {
   "cell_type": "code",
   "execution_count": 2,
   "metadata": {},
   "outputs": [
    {
     "name": "stderr",
     "output_type": "stream",
     "text": [
      "[WDM] - ====== WebDriver manager ======\n",
      "[WDM] - Current google-chrome version is 99.0.4844\n",
      "[WDM] - Get LATEST driver version for 99.0.4844\n"
     ]
    },
    {
     "name": "stdout",
     "output_type": "stream",
     "text": [
      "\n",
      "\n"
     ]
    },
    {
     "name": "stderr",
     "output_type": "stream",
     "text": [
      "[WDM] - Driver [C:\\Users\\Terence Lin\\.wdm\\drivers\\chromedriver\\win32\\99.0.4844.51\\chromedriver.exe] found in cache\n"
     ]
    }
   ],
   "source": [
    "#Set up Splinter \n",
    "executable_path = {'executable_path': ChromeDriverManager().install()}\n",
    "browser = Browser('chrome', **executable_path, headless = False)"
   ]
  },
  {
   "cell_type": "code",
   "execution_count": 3,
   "metadata": {},
   "outputs": [
    {
     "name": "stdout",
     "output_type": "stream",
     "text": [
      "https://www.tomshardware.com/news/gpu-pricing-index\n",
      "https://www.tomshardware.com/news/gpu-pricing-index/2\n",
      "https://www.tomshardware.com/news/gpu-pricing-index/3\n",
      "https://www.tomshardware.com/news/gpu-pricing-index/4\n",
      "https://www.tomshardware.com/news/gpu-pricing-index/5\n"
     ]
    }
   ],
   "source": [
    "ebay_monthly_data = ['https://www.tomshardware.com/news/gpu-pricing-index', \n",
    "                     'https://www.tomshardware.com/news/gpu-pricing-index/2', \n",
    "                     'https://www.tomshardware.com/news/gpu-pricing-index/3', \n",
    "                     'https://www.tomshardware.com/news/gpu-pricing-index/4', \n",
    "                     'https://www.tomshardware.com/news/gpu-pricing-index/5']\n",
    "\n",
    "month_dict = {0:'Feb 2022', 1:'Jan 2022', 2:'Dec 2021', 3:'Nov 2021', 4:'Oct 2021'}\n",
    "etherium_dict = {0:2629.48,1:2604.37,2:3710.23,3:4426.74,4:4298.43,5:2838.95}\n",
    "\n",
    "gpu = [] \n",
    "prices = [] \n",
    "units_sold = []\n",
    "months = []\n",
    "etherium_prices = []\n",
    "\n",
    "for links, index in enumerate(ebay_monthly_data): \n",
    "    browser.visit(index) \n",
    "    html = browser.html \n",
    "    gpu_soup = soup(html,'html.parser') \n",
    "    table = gpu_soup.find_all('table')[0].findAll('td')\n",
    "    print(index)\n",
    "\n",
    "    for count, values in enumerate(table):\n",
    "        if count%5 is 0:   \n",
    "            gpu.append(values.string)\n",
    "            months.append(month_dict[links])\n",
    "            etherium_prices.append(etherium_dict[links])\n",
    "        elif count%5 is 1:\n",
    "            prices.append(values.string)\n",
    "        elif count%5 is 2:\n",
    "            units_sold.append(values.string)"
   ]
  },
  {
   "cell_type": "code",
   "execution_count": 4,
   "metadata": {},
   "outputs": [
    {
     "name": "stdout",
     "output_type": "stream",
     "text": [
      "['$2,341', '$1,721', '$1,547', '$1,440', '$1,001', '$988', '$847', '$636', '$455', '$1,421', '$1,176', '$1,033', '$783', '$568', '$463', '$272', '$2,609', '$1,874', '$1,613', '$1,179', '$1,086', '$923', '$711', '$539', '$1,528', '$1,269', '$1,150', '$847', '$610', '$516', '$365', '$2,918', '$1,992', '$1,783', '$1,244', '$1,179', '$1,007', '$761', '$1,527', '$1,387', '$1,282', '$898', '$659', '$578', '$2,936', '$1,895', '$1,720', '$1,201', '$1,193', '$1,002', '$749', '$1,599', '$1,384', '$1,332', '$945', '$665', '$588', '$2,737', '$1,829', '$1,666', '$1,124', '$1,144', '$907', '$698', '$1,512', '$1,314', '$1,260', '$859', '$631', '$559', '$2,702', '$1,831', '$1,677', '$1,172', '$1,210', '$915', '$700', '$1,546', '$1,323', '$1,293', '$858', '$591']\n"
     ]
    }
   ],
   "source": [
    "september_data = 'https://www.tomshardware.com/news/gpu-pricing-index/6'\n",
    "browser.visit(september_data)\n",
    "html = browser.html\n",
    "find_soup = soup(html,'html.parser')\n",
    "data = find_soup.findAll('table')[1].findAll('td')\n",
    "\n",
    "for count, values in enumerate(data):\n",
    "        if count%4 is 0:   \n",
    "            gpu.append(values.string)\n",
    "            months.append('Sep 2021')\n",
    "            etherium_prices.append(etherium_dict[links])\n",
    "        elif count%4 is 1:\n",
    "            prices.append(values.string)\n",
    "        elif count%4 is 2:\n",
    "            units_sold.append(values.string)\n",
    "print(prices)"
   ]
  },
  {
   "cell_type": "code",
   "execution_count": 5,
   "metadata": {},
   "outputs": [
    {
     "data": {
      "text/html": [
       "<div>\n",
       "<style scoped>\n",
       "    .dataframe tbody tr th:only-of-type {\n",
       "        vertical-align: middle;\n",
       "    }\n",
       "\n",
       "    .dataframe tbody tr th {\n",
       "        vertical-align: top;\n",
       "    }\n",
       "\n",
       "    .dataframe thead th {\n",
       "        text-align: right;\n",
       "    }\n",
       "</style>\n",
       "<table border=\"1\" class=\"dataframe\">\n",
       "  <thead>\n",
       "    <tr style=\"text-align: right;\">\n",
       "      <th></th>\n",
       "      <th>GPUs</th>\n",
       "      <th>Prices</th>\n",
       "      <th>Sold</th>\n",
       "      <th>Month</th>\n",
       "      <th>Etherium Price</th>\n",
       "    </tr>\n",
       "  </thead>\n",
       "  <tbody>\n",
       "    <tr>\n",
       "      <th>0</th>\n",
       "      <td>GeForce RTX 3090</td>\n",
       "      <td>$2,341</td>\n",
       "      <td>968</td>\n",
       "      <td>Feb 2022</td>\n",
       "      <td>2629.48</td>\n",
       "    </tr>\n",
       "    <tr>\n",
       "      <th>1</th>\n",
       "      <td>GeForce RTX 3080 Ti</td>\n",
       "      <td>$1,721</td>\n",
       "      <td>753</td>\n",
       "      <td>Feb 2022</td>\n",
       "      <td>2629.48</td>\n",
       "    </tr>\n",
       "    <tr>\n",
       "      <th>2</th>\n",
       "      <td>GeForce RTX 3080 12GB</td>\n",
       "      <td>$1,547</td>\n",
       "      <td>82</td>\n",
       "      <td>Feb 2022</td>\n",
       "      <td>2629.48</td>\n",
       "    </tr>\n",
       "    <tr>\n",
       "      <th>3</th>\n",
       "      <td>GeForce RTX 3080</td>\n",
       "      <td>$1,440</td>\n",
       "      <td>1222</td>\n",
       "      <td>Feb 2022</td>\n",
       "      <td>2629.48</td>\n",
       "    </tr>\n",
       "    <tr>\n",
       "      <th>4</th>\n",
       "      <td>GeForce RTX 3070 Ti</td>\n",
       "      <td>$1,001</td>\n",
       "      <td>929</td>\n",
       "      <td>Feb 2022</td>\n",
       "      <td>2629.48</td>\n",
       "    </tr>\n",
       "    <tr>\n",
       "      <th>...</th>\n",
       "      <td>...</td>\n",
       "      <td>...</td>\n",
       "      <td>...</td>\n",
       "      <td>...</td>\n",
       "      <td>...</td>\n",
       "    </tr>\n",
       "    <tr>\n",
       "      <th>77</th>\n",
       "      <td>Radeon RX 6900 XT</td>\n",
       "      <td>$1,546</td>\n",
       "      <td>189</td>\n",
       "      <td>Sep 2021</td>\n",
       "      <td>4298.43</td>\n",
       "    </tr>\n",
       "    <tr>\n",
       "      <th>78</th>\n",
       "      <td>Radeon RX 6800 XT</td>\n",
       "      <td>$1,323</td>\n",
       "      <td>321</td>\n",
       "      <td>Sep 2021</td>\n",
       "      <td>4298.43</td>\n",
       "    </tr>\n",
       "    <tr>\n",
       "      <th>79</th>\n",
       "      <td>Radeon RX 6800</td>\n",
       "      <td>$1,293</td>\n",
       "      <td>148</td>\n",
       "      <td>Sep 2021</td>\n",
       "      <td>4298.43</td>\n",
       "    </tr>\n",
       "    <tr>\n",
       "      <th>80</th>\n",
       "      <td>Radeon RX 6700 XT</td>\n",
       "      <td>$858</td>\n",
       "      <td>838</td>\n",
       "      <td>Sep 2021</td>\n",
       "      <td>4298.43</td>\n",
       "    </tr>\n",
       "    <tr>\n",
       "      <th>81</th>\n",
       "      <td>Radeon RX 6600 XT</td>\n",
       "      <td>$591</td>\n",
       "      <td>1236</td>\n",
       "      <td>Sep 2021</td>\n",
       "      <td>4298.43</td>\n",
       "    </tr>\n",
       "  </tbody>\n",
       "</table>\n",
       "<p>82 rows × 5 columns</p>\n",
       "</div>"
      ],
      "text/plain": [
       "                     GPUs  Prices  Sold     Month  Etherium Price\n",
       "0        GeForce RTX 3090  $2,341   968  Feb 2022         2629.48\n",
       "1     GeForce RTX 3080 Ti  $1,721   753  Feb 2022         2629.48\n",
       "2   GeForce RTX 3080 12GB  $1,547    82  Feb 2022         2629.48\n",
       "3        GeForce RTX 3080  $1,440  1222  Feb 2022         2629.48\n",
       "4     GeForce RTX 3070 Ti  $1,001   929  Feb 2022         2629.48\n",
       "..                    ...     ...   ...       ...             ...\n",
       "77      Radeon RX 6900 XT  $1,546   189  Sep 2021         4298.43\n",
       "78      Radeon RX 6800 XT  $1,323   321  Sep 2021         4298.43\n",
       "79         Radeon RX 6800  $1,293   148  Sep 2021         4298.43\n",
       "80      Radeon RX 6700 XT    $858   838  Sep 2021         4298.43\n",
       "81      Radeon RX 6600 XT    $591  1236  Sep 2021         4298.43\n",
       "\n",
       "[82 rows x 5 columns]"
      ]
     },
     "execution_count": 5,
     "metadata": {},
     "output_type": "execute_result"
    }
   ],
   "source": [
    "df = pd.DataFrame({\n",
    "    \"GPUs\":gpu,\n",
    "    \"Prices\":prices,\n",
    "    \"Sold\":units_sold,\n",
    "    \"Month\":months,\n",
    "    \"Etherium Price\":etherium_prices,\n",
    "})\n",
    "df"
   ]
  },
  {
   "cell_type": "code",
   "execution_count": 6,
   "metadata": {},
   "outputs": [],
   "source": [
    "filepath = Path('CSV/ebay_prices.csv')\n",
    "df.to_csv(filepath)"
   ]
  },
  {
   "cell_type": "code",
   "execution_count": null,
   "metadata": {},
   "outputs": [],
   "source": []
  }
 ],
 "metadata": {
  "kernelspec": {
   "display_name": "Python 3",
   "language": "python",
   "name": "python3"
  },
  "language_info": {
   "codemirror_mode": {
    "name": "ipython",
    "version": 3
   },
   "file_extension": ".py",
   "mimetype": "text/x-python",
   "name": "python",
   "nbconvert_exporter": "python",
   "pygments_lexer": "ipython3",
   "version": "3.7.9"
  }
 },
 "nbformat": 4,
 "nbformat_minor": 4
}
